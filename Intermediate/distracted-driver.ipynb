{
 "cells": [
  {
   "cell_type": "code",
   "execution_count": 1,
   "metadata": {
    "_cell_guid": "b1076dfc-b9ad-4769-8c92-a6c4dae69d19",
    "_uuid": "8f2839f25d086af736a60e9eeb907d3b93b6e0e5"
   },
   "outputs": [],
   "source": [
    "# This Python 3 environment comes with many helpful analytics libraries installed\n",
    "# It is defined by the kaggle/python docker image: https://github.com/kaggle/docker-python\n",
    "# For example, here's several helpful packages to load in \n",
    "\n",
    "import numpy as np # linear algebra\n",
    "import pandas as pd # data processing, CSV file I/O (e.g. pd.read_csv)\n",
    "\n",
    "# Input data files are available in the \"../input/\" directory.\n",
    "# For example, running this (by clicking run or pressing Shift+Enter) will list all files under the input directory\n",
    "import cv2\n",
    "import os\n",
    "import glob\n",
    "# for dirname, _, filenames in os.walk('/kaggle/input'):\n",
    "#     for filename in filenames:\n",
    "#         print(os.path.join(dirname, filename))\n",
    "\n",
    "# Any results you write to the current directory are saved as output."
   ]
  },
  {
   "cell_type": "code",
   "execution_count": 2,
   "metadata": {},
   "outputs": [
    {
     "name": "stderr",
     "output_type": "stream",
     "text": [
      "Using TensorFlow backend.\n"
     ]
    }
   ],
   "source": [
    "from keras.preprocessing.image import ImageDataGenerator\n",
    "from keras.models import model_from_json"
   ]
  },
  {
   "cell_type": "code",
   "execution_count": 3,
   "metadata": {},
   "outputs": [],
   "source": [
    "from keras.callbacks import ModelCheckpoint, ReduceLROnPlateau\n",
    "from keras import layers\n",
    "from keras import optimizers\n",
    "from keras import Input\n",
    "from keras.layers import Conv2D, MaxPooling2D, Dropout, BatchNormalization, GlobalAveragePooling2D, Dense\n",
    "from keras.optimizers import Adam\n",
    "# from keras import Activation\n",
    "from keras.models import Model, Sequential"
   ]
  },
  {
   "cell_type": "code",
   "execution_count": 4,
   "metadata": {},
   "outputs": [],
   "source": [
    "labels = ['c0', 'c1', 'c2', 'c3', 'c4', 'c5', 'c6', 'c7', 'c8', 'c9']\n",
    "\n",
    "col = {'c0': 'safe driving',\n",
    "'c1': 'texting - right',\n",
    "'c2': 'talking on the phone - right',\n",
    "'c3': 'texting - left',\n",
    "'c4': 'talking on the phone - left',\n",
    "'c5':'operating the radio',\n",
    "'c6': 'drinking',\n",
    "'c7': 'reaching behind',\n",
    "'c8': 'hair and makeup',\n",
    "'c9': 'talking to passenger'}"
   ]
  },
  {
   "cell_type": "code",
   "execution_count": 5,
   "metadata": {},
   "outputs": [],
   "source": [
    "DATA_PATH = \"/kaggle/input/state-farm-distracted-driver-detection/imgs\"\n",
    "train_path = os.path.join(DATA_PATH, \"train\")\n",
    "test_path = os.path.join(DATA_PATH, \"test\")"
   ]
  },
  {
   "cell_type": "code",
   "execution_count": 6,
   "metadata": {},
   "outputs": [],
   "source": [
    "def read_image(path):\n",
    "    img = cv2.imread(path, cv2.IMREAD_COLOR)\n",
    "    img = cv2.cvtColor(img, cv2.COLOR_BGR2RGB)\n",
    "    return img"
   ]
  },
  {
   "cell_type": "code",
   "execution_count": 7,
   "metadata": {},
   "outputs": [],
   "source": [
    "train_datagen = ImageDataGenerator(rotation_range=20, width_shift_range=0.2,\n",
    "                                   height_shift_range=0.3, zoom_range=0.3,\n",
    "                                   channel_shift_range=0.0,\n",
    "                                   fill_mode='nearest', cval=0.0, horizontal_flip=True, vertical_flip=False, rescale=1/255.,\n",
    "                                   data_format='channels_last', validation_split=0.3,\n",
    "                                   dtype='float32')"
   ]
  },
  {
   "cell_type": "code",
   "execution_count": 8,
   "metadata": {},
   "outputs": [],
   "source": [
    "val_datagen = ImageDataGenerator(rescale=1/255.,\n",
    "                                   data_format='channels_last', validation_split=0.3,\n",
    "                                   dtype='float32')"
   ]
  },
  {
   "cell_type": "code",
   "execution_count": 9,
   "metadata": {},
   "outputs": [
    {
     "name": "stdout",
     "output_type": "stream",
     "text": [
      "Found 15702 images belonging to 10 classes.\n"
     ]
    }
   ],
   "source": [
    "train_generator = train_datagen.flow_from_directory(train_path, target_size=(256,256), color_mode=\"grayscale\", \n",
    "                                                    class_mode=\"categorical\", batch_size=64, subset=\"training\")"
   ]
  },
  {
   "cell_type": "code",
   "execution_count": 10,
   "metadata": {},
   "outputs": [
    {
     "name": "stdout",
     "output_type": "stream",
     "text": [
      "Found 6722 images belonging to 10 classes.\n"
     ]
    }
   ],
   "source": [
    "val_generator = val_datagen.flow_from_directory(train_path, target_size=(256,256), color_mode=\"grayscale\", \n",
    "                                                    class_mode=\"categorical\", batch_size=64, subset=\"validation\")"
   ]
  },
  {
   "cell_type": "code",
   "execution_count": 11,
   "metadata": {},
   "outputs": [],
   "source": [
    "df = pd.read_csv(\"/kaggle/input/state-farm-distracted-driver-detection/driver_imgs_list.csv\")"
   ]
  },
  {
   "cell_type": "code",
   "execution_count": 12,
   "metadata": {},
   "outputs": [],
   "source": [
    "def make_model(input_shape=(256,256,1)):\n",
    "    model = Sequential()\n",
    "    model.add(Conv2D(filters=32, kernel_size=(3, 3), input_shape=input_shape, activation='elu'))\n",
    "#     model.add(Activation(activation='elu'))\n",
    "    model.add(MaxPooling2D())\n",
    "    model.add(BatchNormalization())\n",
    "\n",
    "    model.add(Conv2D(filters=32, kernel_size=(3, 3), activation='elu'))\n",
    "#     model.add(Activation(activation=elu))\n",
    "    model.add(MaxPooling2D())\n",
    "    model.add(BatchNormalization())\n",
    "\n",
    "    model.add(Conv2D(filters=64, kernel_size=(3, 3), activation='elu'))\n",
    "#     model.add(Activation(activation=elu))\n",
    "    model.add(MaxPooling2D())\n",
    "    model.add(BatchNormalization())\n",
    "\n",
    "    model.add(Conv2D(filters=128, kernel_size=(3, 3), activation='elu'))\n",
    "#     model.add(Activation(activation=elu))\n",
    "    model.add(MaxPooling2D())\n",
    "    model.add(BatchNormalization())\n",
    "\n",
    "    model.add(Conv2D(filters=256, kernel_size=(3, 3), activation='elu'))\n",
    "#     model.add(Activation(activation=elu))\n",
    "    model.add(MaxPooling2D())\n",
    "    model.add(BatchNormalization())\n",
    "\n",
    "#     model.add(Conv2D(filters=512, kernel_size=(3, 3), activation='elu'))\n",
    "# #     model.add(Activation(activation=elu))\n",
    "#     model.add(MaxPooling2D())\n",
    "#     model.add(BatchNormalization())\n",
    "\n",
    "    # model.add(Conv2D(filters=32, kernel_size=(3, 3), activation=elu))\n",
    "    # model.add(Activation(activation=elu))\n",
    "    # model.add(MaxPooling2D())\n",
    "    # model.add(BatchNormalization())\n",
    "\n",
    "    model.add(GlobalAveragePooling2D())\n",
    "    model.add(Dense(3000, activation='elu'))\n",
    "#     model.add(Activation(activation=elu))\n",
    "    model.add(Dropout(rate=0.25))\n",
    "    model.add(Dense(2000, activation='elu'))\n",
    "#     model.add(Activation(activation='elu'))\n",
    "    model.add(Dropout(rate=0.25))\n",
    "    model.add(Dense(10, activation='softmax'))\n",
    "    \n",
    "    return (model)\n",
    "    "
   ]
  },
  {
   "cell_type": "code",
   "execution_count": 13,
   "metadata": {},
   "outputs": [],
   "source": [
    "model = make_model()\n",
    "opt = Adam()\n",
    "model.compile(optimizer=opt, loss='categorical_crossentropy', metrics=['acc'])    "
   ]
  },
  {
   "cell_type": "code",
   "execution_count": 14,
   "metadata": {},
   "outputs": [
    {
     "name": "stdout",
     "output_type": "stream",
     "text": [
      "Model: \"sequential_1\"\n",
      "_________________________________________________________________\n",
      "Layer (type)                 Output Shape              Param #   \n",
      "=================================================================\n",
      "conv2d_1 (Conv2D)            (None, 254, 254, 32)      320       \n",
      "_________________________________________________________________\n",
      "max_pooling2d_1 (MaxPooling2 (None, 127, 127, 32)      0         \n",
      "_________________________________________________________________\n",
      "batch_normalization_1 (Batch (None, 127, 127, 32)      128       \n",
      "_________________________________________________________________\n",
      "conv2d_2 (Conv2D)            (None, 125, 125, 32)      9248      \n",
      "_________________________________________________________________\n",
      "max_pooling2d_2 (MaxPooling2 (None, 62, 62, 32)        0         \n",
      "_________________________________________________________________\n",
      "batch_normalization_2 (Batch (None, 62, 62, 32)        128       \n",
      "_________________________________________________________________\n",
      "conv2d_3 (Conv2D)            (None, 60, 60, 64)        18496     \n",
      "_________________________________________________________________\n",
      "max_pooling2d_3 (MaxPooling2 (None, 30, 30, 64)        0         \n",
      "_________________________________________________________________\n",
      "batch_normalization_3 (Batch (None, 30, 30, 64)        256       \n",
      "_________________________________________________________________\n",
      "conv2d_4 (Conv2D)            (None, 28, 28, 128)       73856     \n",
      "_________________________________________________________________\n",
      "max_pooling2d_4 (MaxPooling2 (None, 14, 14, 128)       0         \n",
      "_________________________________________________________________\n",
      "batch_normalization_4 (Batch (None, 14, 14, 128)       512       \n",
      "_________________________________________________________________\n",
      "conv2d_5 (Conv2D)            (None, 12, 12, 256)       295168    \n",
      "_________________________________________________________________\n",
      "max_pooling2d_5 (MaxPooling2 (None, 6, 6, 256)         0         \n",
      "_________________________________________________________________\n",
      "batch_normalization_5 (Batch (None, 6, 6, 256)         1024      \n",
      "_________________________________________________________________\n",
      "global_average_pooling2d_1 ( (None, 256)               0         \n",
      "_________________________________________________________________\n",
      "dense_1 (Dense)              (None, 3000)              771000    \n",
      "_________________________________________________________________\n",
      "dropout_1 (Dropout)          (None, 3000)              0         \n",
      "_________________________________________________________________\n",
      "dense_2 (Dense)              (None, 2000)              6002000   \n",
      "_________________________________________________________________\n",
      "dropout_2 (Dropout)          (None, 2000)              0         \n",
      "_________________________________________________________________\n",
      "dense_3 (Dense)              (None, 10)                20010     \n",
      "=================================================================\n",
      "Total params: 7,192,146\n",
      "Trainable params: 7,191,122\n",
      "Non-trainable params: 1,024\n",
      "_________________________________________________________________\n"
     ]
    }
   ],
   "source": [
    "model.summary()"
   ]
  },
  {
   "cell_type": "code",
   "execution_count": 15,
   "metadata": {},
   "outputs": [],
   "source": [
    "epochs = 20\n",
    "batch_size = 64"
   ]
  },
  {
   "cell_type": "code",
   "execution_count": 16,
   "metadata": {},
   "outputs": [],
   "source": [
    "filepath = 'distracted_driver.h5'\n",
    "reducelr = ReduceLROnPlateau(monitor='val_loss', factor=0.1, patience=5,\n",
    "                             verbose=1, mode='auto', min_delta=0.0001, cooldown=0, min_lr=0)\n",
    "checkpoint = ModelCheckpoint(filepath, monitor='val_loss', verbose=1,\n",
    "                             save_best_only=True, save_weights_only=False, mode='auto', period=1)\n",
    "callback_l = [reducelr, checkpoint]"
   ]
  },
  {
   "cell_type": "code",
   "execution_count": 17,
   "metadata": {},
   "outputs": [
    {
     "name": "stdout",
     "output_type": "stream",
     "text": [
      "Epoch 1/20\n",
      "245/245 [==============================] - 229s 933ms/step - loss: 2.3323 - acc: 0.1906 - val_loss: 3.6649 - val_acc: 0.0851\n",
      "Epoch 2/20\n",
      "245/245 [==============================] - 189s 773ms/step - loss: 1.9372 - acc: 0.3017 - val_loss: 2.3706 - val_acc: 0.2212\n",
      "Epoch 3/20\n",
      "245/245 [==============================] - 190s 774ms/step - loss: 1.4670 - acc: 0.4886 - val_loss: 2.3745 - val_acc: 0.2915\n",
      "Epoch 4/20\n",
      "245/245 [==============================] - 188s 769ms/step - loss: 0.9318 - acc: 0.6780 - val_loss: 0.5834 - val_acc: 0.7044\n",
      "Epoch 5/20\n",
      "245/245 [==============================] - 190s 775ms/step - loss: 0.6748 - acc: 0.7746 - val_loss: 1.4666 - val_acc: 0.6793\n",
      "Epoch 6/20\n",
      "245/245 [==============================] - 187s 765ms/step - loss: 0.5558 - acc: 0.8165 - val_loss: 4.4796 - val_acc: 0.3480\n",
      "Epoch 7/20\n",
      "245/245 [==============================] - 186s 758ms/step - loss: 0.4569 - acc: 0.8468 - val_loss: 0.3582 - val_acc: 0.9160\n",
      "Epoch 8/20\n",
      "245/245 [==============================] - 186s 758ms/step - loss: 0.4025 - acc: 0.8698 - val_loss: 0.2414 - val_acc: 0.9336\n",
      "Epoch 9/20\n",
      "245/245 [==============================] - 186s 757ms/step - loss: 0.3514 - acc: 0.8859 - val_loss: 0.3454 - val_acc: 0.8256\n",
      "Epoch 10/20\n",
      "245/245 [==============================] - 186s 757ms/step - loss: 0.3220 - acc: 0.8954 - val_loss: 0.4339 - val_acc: 0.9599\n",
      "Epoch 11/20\n",
      "245/245 [==============================] - 183s 749ms/step - loss: 0.3043 - acc: 0.8978 - val_loss: 0.8107 - val_acc: 0.8403\n",
      "Epoch 12/20\n",
      "245/245 [==============================] - 183s 748ms/step - loss: 0.2929 - acc: 0.9071 - val_loss: 0.1337 - val_acc: 0.9622\n",
      "Epoch 13/20\n",
      "245/245 [==============================] - 182s 742ms/step - loss: 0.2712 - acc: 0.9150 - val_loss: 0.2140 - val_acc: 0.9091\n",
      "Epoch 14/20\n",
      "245/245 [==============================] - 181s 741ms/step - loss: 0.2774 - acc: 0.9137 - val_loss: 0.3203 - val_acc: 0.9455\n",
      "Epoch 15/20\n",
      "245/245 [==============================] - 182s 742ms/step - loss: 0.2611 - acc: 0.9187 - val_loss: 0.6033 - val_acc: 0.9287\n",
      "Epoch 16/20\n",
      "245/245 [==============================] - 181s 740ms/step - loss: 0.2568 - acc: 0.9199 - val_loss: 0.3729 - val_acc: 0.9123\n",
      "Epoch 17/20\n",
      "245/245 [==============================] - 181s 740ms/step - loss: 0.2379 - acc: 0.9227 - val_loss: 0.4919 - val_acc: 0.8944\n",
      "Epoch 18/20\n",
      "245/245 [==============================] - 181s 738ms/step - loss: 0.2316 - acc: 0.9264 - val_loss: 0.1277 - val_acc: 0.9387\n",
      "Epoch 19/20\n",
      "245/245 [==============================] - 182s 741ms/step - loss: 0.2491 - acc: 0.9212 - val_loss: 0.1763 - val_acc: 0.9414\n",
      "Epoch 20/20\n",
      "245/245 [==============================] - 181s 740ms/step - loss: 0.2266 - acc: 0.9284 - val_loss: 0.3460 - val_acc: 0.9507\n"
     ]
    }
   ],
   "source": [
    "history = model.fit_generator(train_generator,\n",
    "                              steps_per_epoch= train_generator.samples // batch_size,\n",
    "                              epochs=epochs,\n",
    "                              validation_data=val_generator,\n",
    "                              validation_steps=val_generator.samples // batch_size)"
   ]
  },
  {
   "cell_type": "code",
   "execution_count": 18,
   "metadata": {},
   "outputs": [
    {
     "name": "stdout",
     "output_type": "stream",
     "text": [
      "Saved model to disk\n"
     ]
    }
   ],
   "source": [
    "model_json = model.to_json()\n",
    "with open(\"model.json\", \"w\") as json_file:\n",
    "    json_file.write(model_json)\n",
    "print(\"Saved model to disk\")"
   ]
  }
 ],
 "metadata": {
  "kernelspec": {
   "display_name": "Python 3",
   "language": "python",
   "name": "python3"
  },
  "language_info": {
   "codemirror_mode": {
    "name": "ipython",
    "version": 3
   },
   "file_extension": ".py",
   "mimetype": "text/x-python",
   "name": "python",
   "nbconvert_exporter": "python",
   "pygments_lexer": "ipython3",
   "version": "3.6.6"
  }
 },
 "nbformat": 4,
 "nbformat_minor": 1
}
